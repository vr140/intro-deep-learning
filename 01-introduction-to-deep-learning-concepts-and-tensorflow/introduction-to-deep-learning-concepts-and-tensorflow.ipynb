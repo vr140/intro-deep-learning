{
 "cells": [
  {
   "cell_type": "markdown",
   "metadata": {},
   "source": [
    "## Part 1: Introduction to Deep Learning Concepts (and Tensorflow)\n",
    "\n",
    "### 1. Mathematical Basics\n",
    "\n",
    "Below we will cover the basic mathematical concepts of deep learning. Don't worry! It'll be minimal and just enough to get you feeling comfortable enough to read deep learning posts.\n",
    "\n",
    "#### 1.1 Vectors and Matrices\n",
    "\n",
    "A vector is technically defined as something that has a magnitude and direction (in contrast to a scalar, which is just a number and only has magnitude). For the purposes of this notebook, a vector will represent a vertical _array_ of numbers, with dimensions n x 1 (or n rows and 1 column):\n",
    "\n",
    "$\\boldsymbol{x} = \\begin{bmatrix} \n",
    "x_1 \\\\ \n",
    "x_2 \\\\ \n",
    "... \\\\\n",
    "x_n \n",
    "\\end{bmatrix}$\n",
    "\n",
    "Note that the vector notation we use is a bolded $\\boldsymbol{x}$ (you may also see $\\vec{v}$ but we will avoid that).  In contrast, a non-bolded x will represent a scalar. If we wanted a horizontal array, we would write it as:\n",
    "\n",
    "$\\boldsymbol{x}^{T} = \\begin{bmatrix} \n",
    "x_1 x_2 ... x_n\n",
    "\\end{bmatrix}$\n",
    "\n",
    "A capitalized bolded $\\boldsymbol{X}$ represents a matrix, with n rows and m columns:\n",
    "\n",
    "$\\boldsymbol{X} = \\begin{bmatrix} \n",
    "x_{1,1} x_{1,2} ... x_{1,m} \\\\ \n",
    "x_{2,1} x_{2,2} ... x_{2,m} \\\\ \n",
    "... \\\\\n",
    "x_{n,1} x_{n,2} ... x_{n,m} \n",
    "\\end{bmatrix}$\n",
    "\n",
    "Let's write these out in Python using Tensorflow, a library that was built by Google for deep learning. Tensorflow is extremely popular and will be the main programming focus of the rest of these notebooks (in the last lesson, we briefly used numpy, a numerical computation library). NOTE: Other popular libraries include Pytorch and Caffe2. Keras is another popular one but its API has since been absorbed into Tensorflow.  \n"
   ]
  },
  {
   "cell_type": "code",
   "execution_count": null,
   "metadata": {
    "collapsed": true
   },
   "outputs": [],
   "source": [
    "# A tensor is essentially a horizontal vector (or vector transpose)\n"
   ]
  },
  {
   "cell_type": "markdown",
   "metadata": {},
   "source": [
    "\n",
    "#### 1.2 Norm\n",
    "\n",
    "#### 1.3 Derivatives (of Vectors and Matrices)\n",
    "\n",
    "#### 1.4 Gradient\n",
    "\n",
    "#### 1.5 Chain Rule"
   ]
  },
  {
   "cell_type": "markdown",
   "metadata": {},
   "source": [
    "### 2. Gradient Descent\n"
   ]
  },
  {
   "cell_type": "markdown",
   "metadata": {},
   "source": [
    "\n",
    "### 3. Backpropagation\n"
   ]
  },
  {
   "cell_type": "markdown",
   "metadata": {},
   "source": [
    "\n",
    "### 4. References\n",
    "\n",
    "<pre>\n",
    "  [1] Fast.ai (http://course.fast.ai/)  \n",
    "  [2] CS231N (http://cs231n.github.io/)  \n",
    "  [3] CS224D (http://cs224d.stanford.edu/syllabus.html)  \n",
    "  [4] Hands on Machine Learning (https://github.com/ageron/handson-ml)  \n",
    "  [5] Deep learning with Python Notebooks (https://github.com/fchollet/deep-learning-with-python-notebooks)  \n",
    "  [6] Deep learning by Goodfellow et. al (http://www.deeplearningbook.org/)  \n",
    "  [7] Neural networks online book (http://neuralnetworksanddeeplearning.com/)\n",
    "  [8] Vector Norms https://machinelearningmastery.com/vector-norms-machine-learning/\n",
    "  [9] The Matrix Calculus You Need For Deep Learning https://arxiv.org/pdf/1802.01528.pdf\n",
    "  [10] Practical Guide to Matrix Calculus for Deep Learning http://www.psi.toronto.edu/~andrew/papers/matrix_calculus_for_learning.pdf\n",
    "</pre>\n",
    "\n"
   ]
  },
  {
   "cell_type": "code",
   "execution_count": null,
   "metadata": {
    "collapsed": true
   },
   "outputs": [],
   "source": []
  }
 ],
 "metadata": {
  "kernelspec": {
   "display_name": "Python 2",
   "language": "python",
   "name": "python2"
  },
  "language_info": {
   "codemirror_mode": {
    "name": "ipython",
    "version": 2
   },
   "file_extension": ".py",
   "mimetype": "text/x-python",
   "name": "python",
   "nbconvert_exporter": "python",
   "pygments_lexer": "ipython2",
   "version": "2.7.10"
  }
 },
 "nbformat": 4,
 "nbformat_minor": 2
}
